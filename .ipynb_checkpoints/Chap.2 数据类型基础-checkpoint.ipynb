{
 "cells": [
  {
   "cell_type": "markdown",
   "metadata": {},
   "source": [
    "## 2.1 列表、元组操作\n",
    "\n",
    "列表是我们最以后最常用的数据类型之一，通过列表可以对数据实现最方便的存储、修改等操作\n",
    "\n",
    "- 定义列表，通过下标访问列表中的元素，下标从0开始计数"
   ]
  },
  {
   "cell_type": "code",
   "execution_count": 11,
   "metadata": {
    "collapsed": true
   },
   "outputs": [],
   "source": [
    "names = ['abc','defg','hi']"
   ]
  },
  {
   "cell_type": "code",
   "execution_count": 12,
   "metadata": {},
   "outputs": [
    {
     "name": "stdout",
     "output_type": "stream",
     "text": [
      "['abc', 'defg']\n"
     ]
    }
   ],
   "source": [
    "print(names[0:2])    # 切片"
   ]
  },
  {
   "cell_type": "code",
   "execution_count": 13,
   "metadata": {},
   "outputs": [
    {
     "name": "stdout",
     "output_type": "stream",
     "text": [
      "['abc', 'lmn', 'defg', 'hi', 'jk']\n"
     ]
    }
   ],
   "source": [
    "names.append('jk')    # 追加\n",
    "names.insert(1,'lmn') # 插入\n",
    "print(names)"
   ]
  },
  {
   "cell_type": "code",
   "execution_count": 15,
   "metadata": {},
   "outputs": [
    {
     "name": "stdout",
     "output_type": "stream",
     "text": [
      "['abc', 'lmn', 'wang', 'hi', 'jk']\n"
     ]
    }
   ],
   "source": [
    "names[2] = 'wang'    # 修改\n",
    "print(names)"
   ]
  },
  {
   "cell_type": "code",
   "execution_count": 16,
   "metadata": {},
   "outputs": [
    {
     "name": "stdout",
     "output_type": "stream",
     "text": [
      "['abc', 'lmn', 'hi', 'jk']\n"
     ]
    }
   ],
   "source": [
    "names.remove('wang')    # 删除元素\n",
    "print(names)"
   ]
  },
  {
   "cell_type": "code",
   "execution_count": 17,
   "metadata": {},
   "outputs": [
    {
     "name": "stdout",
     "output_type": "stream",
     "text": [
      "['lmn', 'hi', 'jk']\n"
     ]
    }
   ],
   "source": [
    "del names[0]    # 删除元素\n",
    "print(names)"
   ]
  },
  {
   "cell_type": "markdown",
   "metadata": {},
   "source": [
    "字符串操作\n",
    "字典操作\n",
    "集合操作\n",
    "文件操作\n",
    "字符编码与转码"
   ]
  }
 ],
 "metadata": {
  "kernelspec": {
   "display_name": "Python 3",
   "language": "python",
   "name": "python3"
  },
  "language_info": {
   "codemirror_mode": {
    "name": "ipython",
    "version": 3
   },
   "file_extension": ".py",
   "mimetype": "text/x-python",
   "name": "python",
   "nbconvert_exporter": "python",
   "pygments_lexer": "ipython3",
   "version": "3.6.1"
  }
 },
 "nbformat": 4,
 "nbformat_minor": 2
}
