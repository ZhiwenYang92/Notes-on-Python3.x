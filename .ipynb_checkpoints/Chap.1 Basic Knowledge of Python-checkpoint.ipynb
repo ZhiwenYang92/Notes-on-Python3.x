{
 "cells": [
  {
   "cell_type": "markdown",
   "metadata": {},
   "source": [
    "# Chap.1 Basic Knowledge of Python"
   ]
  },
  {
   "cell_type": "markdown",
   "metadata": {},
   "source": [
    "## 1.0 Contents\n"
   ]
  },
  {
   "cell_type": "markdown",
   "metadata": {},
   "source": [
    "## 1.1 Python 介绍\n",
    "### 1. 编译型语言和解释型语言\n",
    "\n",
    "- 编译型语言：C, C++\n",
    "- 解释型语言"
   ]
  },
  {
   "cell_type": "code",
   "execution_count": null,
   "metadata": {
    "collapsed": true
   },
   "outputs": [],
   "source": []
  },
  {
   "cell_type": "markdown",
   "metadata": {},
   "source": [
    "## 1. 数据类型"
   ]
  },
  {
   "cell_type": "markdown",
   "metadata": {},
   "source": [
    "## 1. 数据运算"
   ]
  },
  {
   "cell_type": "markdown",
   "metadata": {},
   "source": [
    "## 1. 条件与循环\n",
    "### 1. if 条件判断\n",
    "在程序里设定一个预先指定的数字，然后启动程序让用户猜测，用户输入后，根据他的输入提示用户输入的是否正确，如果错误，提示是猜大了还是小了"
   ]
  },
  {
   "cell_type": "code",
   "execution_count": 1,
   "metadata": {},
   "outputs": [
    {
     "name": "stdout",
     "output_type": "stream",
     "text": [
      "Please input a number between 0 and 100\n",
      "10\n",
      "Oops,think bigger!\n"
     ]
    }
   ],
   "source": [
    "#!/usr/bin/env python\n",
    "# -*- coding: utf-8 -*-\n",
    "\n",
    "default_num = 56\n",
    "user_input = int(input('Please input a number between 0 and 100\\n'))\n",
    "\n",
    "if user_input < default_num:\n",
    "    print('Oops,think bigger!')\n",
    "elif user_input > default_num:\n",
    "    print('Think smaller!')\n",
    "else:\n",
    "    print('Congratulations, you got it!')"
   ]
  },
  {
   "cell_type": "markdown",
   "metadata": {},
   "source": [
    "**注：外层变量，可以被内层代码使用；内层变量，不应被外层代码使用.**"
   ]
  },
  {
   "cell_type": "markdown",
   "metadata": {},
   "source": [
    "### 2. for 循环\n",
    "最简单的循环10次"
   ]
  },
  {
   "cell_type": "code",
   "execution_count": 2,
   "metadata": {},
   "outputs": [
    {
     "name": "stdout",
     "output_type": "stream",
     "text": [
      "loop: 0\n",
      "loop: 1\n",
      "loop: 2\n",
      "loop: 3\n",
      "loop: 4\n",
      "loop: 5\n",
      "loop: 6\n",
      "loop: 7\n",
      "loop: 8\n",
      "loop: 9\n"
     ]
    }
   ],
   "source": [
    "for i in range(10):\n",
    "    print(\"loop:\", i)"
   ]
  },
  {
   "cell_type": "markdown",
   "metadata": {
    "collapsed": true
   },
   "source": [
    "### 3. Continue and Break\n",
    "遇到小于5的循环次数就不走了，直接跳入下一次循环"
   ]
  },
  {
   "cell_type": "code",
   "execution_count": 3,
   "metadata": {},
   "outputs": [
    {
     "name": "stdout",
     "output_type": "stream",
     "text": [
      "loop: 5\n",
      "loop: 6\n",
      "loop: 7\n",
      "loop: 8\n",
      "loop: 9\n"
     ]
    }
   ],
   "source": [
    "for i in range(10):\n",
    "    if i < 5:\n",
    "        continue       # 直接进入下一次loop\n",
    "    print(\"loop:\", i)"
   ]
  },
  {
   "cell_type": "markdown",
   "metadata": {},
   "source": [
    "遇到大于5的循环次数就不走了，直接退出"
   ]
  },
  {
   "cell_type": "code",
   "execution_count": 7,
   "metadata": {},
   "outputs": [
    {
     "name": "stdout",
     "output_type": "stream",
     "text": [
      "loop: 0\n",
      "loop: 1\n",
      "loop: 2\n",
      "loop: 3\n",
      "loop: 4\n",
      "loop: 5\n"
     ]
    }
   ],
   "source": [
    "for i in range(10):\n",
    "    if i > 5:\n",
    "        break         # 直接跳出整个loop\n",
    "    print(\"loop:\", i)"
   ]
  },
  {
   "cell_type": "markdown",
   "metadata": {},
   "source": [
    "### 4. While 循环\n",
    "修改猜数字的程序，允许用户猜至多3次，猜中停止循环"
   ]
  },
  {
   "cell_type": "code",
   "execution_count": 5,
   "metadata": {},
   "outputs": [
    {
     "name": "stdout",
     "output_type": "stream",
     "text": [
      "Please input a number between 0 and 100\n",
      "4\n",
      "Oops,think bigger!\n",
      "Please input a number between 0 and 100\n",
      "56\n",
      "Congratulations, you got it!\n"
     ]
    }
   ],
   "source": [
    "default_num = 56\n",
    "\n",
    "count = 0\n",
    "while count < 3:\n",
    "    user_input = int(input('Please input a number between 0 and 100\\n'))\n",
    "\n",
    "    if user_input < default_num:\n",
    "        print('Oops,think bigger!')\n",
    "    elif user_input > default_num:\n",
    "        print('Think smaller!')\n",
    "    else:\n",
    "        print('Congratulations, you got it!')\n",
    "        break\n",
    "    count += 1"
   ]
  },
  {
   "cell_type": "markdown",
   "metadata": {},
   "source": [
    "## 1. Projects\n",
    "\n",
    "**编写登陆接口**\n",
    "\n",
    "- 输入用户名密码\n",
    "- 认证成功后显示欢迎信息\n",
    "- 输错三次后锁定\n",
    " \n",
    "\n",
    "**多级菜单**\n",
    "- 三级菜单\n",
    "- 可依次选择进入各子菜单\n",
    "- 所需新知识点：列表、字典"
   ]
  }
 ],
 "metadata": {
  "kernelspec": {
   "display_name": "Python 3",
   "language": "python",
   "name": "python3"
  },
  "language_info": {
   "codemirror_mode": {
    "name": "ipython",
    "version": 3
   },
   "file_extension": ".py",
   "mimetype": "text/x-python",
   "name": "python",
   "nbconvert_exporter": "python",
   "pygments_lexer": "ipython3",
   "version": "3.6.1"
  }
 },
 "nbformat": 4,
 "nbformat_minor": 2
}
