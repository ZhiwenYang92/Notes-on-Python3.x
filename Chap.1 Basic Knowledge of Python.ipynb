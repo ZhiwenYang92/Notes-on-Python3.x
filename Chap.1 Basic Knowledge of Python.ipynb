{
 "cells": [
  {
   "cell_type": "markdown",
   "metadata": {},
   "source": [
    "# Chap.1 Basic Knowledge of Python"
   ]
  },
  {
   "cell_type": "markdown",
   "metadata": {},
   "source": [
    "## 1.1 Python 介绍"
   ]
  },
  {
   "cell_type": "markdown",
   "metadata": {},
   "source": [
    "Python崇尚优美、清晰、简单，是一个优秀并广泛使用的语言。\n",
    "\n",
    "\n",
    "**目前Python主要应用领域：** \n",
    "<u>Python可以应用于众多领域，如：数据分析、组件集成、网络服务、图像处理、数值计算和科学计算等众多领域。</u>\n",
    "\n",
    "- 云计算: 云计算最火的语言， 典型应用OpenStack\n",
    "\n",
    "\n",
    "- WEB开发: 众多优秀的WEB框架，众多大型网站均为Python开发，Youtube, Dropbox, 豆瓣。。。， 典型WEB框架有Django\n",
    "\n",
    "\n",
    "- 科学运算、人工智能: 典型库NumPy, SciPy, Matplotlib, Enthought librarys,pandas\n",
    "\n",
    "\n",
    "- 系统运维: 运维人员必备语言\n",
    "\n",
    "\n",
    "- 金融：量化交易，金融分析，在金融工程领域，Python不但在用，且用的最多，而且重要性逐年提高。原因：作为动态语言的Python，语言结构清晰简单，库丰富，成熟稳定，科学计算和统计分析都很牛逼，生产效率远远高于c,c++,java,尤其擅长策略回测\n",
    "\n",
    "\n",
    "- 图形GUI: PyQT, WxPython,TkInter\n",
    "\n",
    "\n",
    "**Python在一些公司的应用： ** <u>目前业内几乎所有大中型互联网企业都在使用Python，如：Youtube、Dropbox、BT、Quora、豆瓣、知乎、Google、Yahoo!、Facebook、NASA、百度、腾讯、汽车之家、美团等。</u>\n",
    "\n",
    "- 谷歌：Google App Engine 、code.google.com 、Google earth 、谷歌爬虫、Google广告等项目都在大量使用Python开发\n",
    "\n",
    "\n",
    "- CIA: 美国中情局网站就是用Python开发的\n",
    "\n",
    "\n",
    "- NASA: 美国航天局(NASA)大量使用Python进行数据分析和运算\n",
    "\n",
    "\n",
    "- YouTube:世界上最大的视频网站YouTube就是用Python开发的\n",
    "\n",
    "\n",
    "- Dropbox:美国最大的在线云存储网站，全部用Python实现，每天网站处理10亿个文件的上传和下载\n",
    "\n",
    "\n",
    "- Instagram:美国最大的图片分享社交网站，每天超过3千万张照片被分享，全部用python开发\n",
    "\n",
    "\n",
    "- Facebook:大量的基础库均通过Python实现的\n",
    "\n",
    "\n",
    "- Redhat: 世界上最流行的Linux发行版本中的yum包管理工具就是用python开发的\n",
    "\n",
    "\n",
    "- 豆瓣: 公司几乎所有的业务均是通过Python开发的\n",
    "\n",
    "\n",
    "- 知乎: 国内最大的问答社区，通过Python开发\n",
    "\n",
    "\n",
    "- 春雨医生：国内知名的在线医疗网站是用Python开发的\n",
    "\n",
    "\n",
    "- 除上面之外，还有搜狐、金山、腾讯、盛大、网易、百度、阿里、淘宝 、土豆、新浪、果壳等公司都在使用Python完成各种各样的任务。 \n",
    "\n",
    "\n"
   ]
  },
  {
   "attachments": {},
   "cell_type": "markdown",
   "metadata": {},
   "source": [
    "**编程语言主要从以下几个角度为进行分类，编译型和解释型、静态语言和动态语言、强类型定义语言和弱类型定义语言。**\n",
    "\n",
    "\n",
    "### 1. 编译型语言和解释型语言\n",
    "\n",
    "\n",
    " \n",
    "- 编译型语言：编译器把源程序的每一条语句都编译成机器语言,并保存成二进制文件,这样运行时计算机可以直接以机器语言来运行此程序,速度很快; \n",
    "\n",
    "\n",
    "- 解释型语言：解释器则是只在执行程序时,才一条一条的解释成机器语言给计算机来执行,所以运行速度是不如编译后的程序运行的快。\n",
    "\n",
    "<img src=\"Img/0-1.png\" width = \"450\" height = \"200\" alt=\"图片名称\" align=left />\n",
    "\n",
    "<img src=\"Img/0-2.png\" width = \"450\" height = \"200\" alt=\"图片名称\" align=center/>\n",
    "\n",
    "\n",
    "\n",
    "\n",
    "\n",
    "\n",
    "\n",
    "\n",
    "\n",
    "\n"
   ]
  },
  {
   "cell_type": "markdown",
   "metadata": {},
   "source": [
    "\n",
    "### 2. 静态语言和动态语言\n",
    "\n",
    "\n",
    "### 3. 强类型定义语言和弱类型定义语言"
   ]
  },
  {
   "cell_type": "markdown",
   "metadata": {
    "collapsed": true
   },
   "source": [
    "## 1.2 Python 发展历史\n",
    "\n",
    "- 1989年，为了打发圣诞节假期，Guido开始写Python语言的编译器。Python这个名字，来自Guido所挚爱的电视剧Monty Python’s Flying Circus。他希望这个新的叫做Python的语言，能符合他的理想：创造一种C和shell之间，功能全面，易学易用，可拓展的语言。\n",
    "\n",
    "\n",
    "- 1991年，第一个Python编译器诞生。它是用C语言实现的，并能够调用C语言的库文件。从一出生，Python已经具有了：类，函数，异常处理，包含表和词典在内的核心数据类型，以及模块为基础的拓展系统。\n",
    "\n",
    "\n",
    "- Granddaddy of Python web frameworks, Zope 1 was released in 1999\n",
    "\n",
    "\n",
    "- Python 1.0 - January 1994 增加了 lambda, map, filter and reduce.\n",
    "\n",
    "\n",
    "- Python 2.0 - October 16, 2000，加入了内存回收机制，构成了现在Python语言框架的基础\n",
    "\n",
    "\n",
    "- Python 2.4 - November 30, 2004, 同年目前最流行的WEB框架Django 诞生\n",
    "\n",
    "\n",
    "- Python 2.5 - September 19, 2006\n",
    "\n",
    "\n",
    "- Python 2.6 - October 1, 2008\n",
    "\n",
    "\n",
    "- Python 2.7 - July 3, 2010\n",
    "\n",
    "\n",
    "- In November 2014, it was announced that Python 2.7 would be supported until 2020, and reaffirmed that there would be no 2.8 release as users were expected to move to Python 3.4+ as soon as possible\n",
    "\n",
    "\n",
    "- **Python 3.0 - December 3, 2008**\n",
    "\n",
    "\n",
    "- Python 3.1 - June 27, 2009\n",
    "\n",
    "\n",
    "- Python 3.2 - February 20, 2011\n",
    "\n",
    "\n",
    "- Python 3.3 - September 29, 2012\n",
    "\n",
    "\n",
    "- Python 3.4 - March 16, 2014\n",
    "\n",
    "\n",
    "- Python 3.5 - September 13, 2015\n",
    "\n",
    "### 1. Python2 or Python3?\n",
    "\n",
    "\n",
    "**In summary : Python 2.x is legacy, Python 3.x is the present and future of the language**\n",
    "\n",
    "Python 3.0 was released in 2008. The final 2.x version 2.7 release came out in mid-2010, with a statement of extended support for this end-of-life release. The 2.x branch will see no new major releases after that. 3.x is under active development and has already seen over five years of stable releases, including version 3.3 in 2012, 3.4 in 2014, and 3.5 in 2015. This means that all recent standard library improvements, for example, are only available by default in Python 3.x.\n",
    "\n",
    "\n",
    "Guido van Rossum (the original creator of the Python language) decided to clean up Python 2.x properly, with less regard for backwards compatibility than is the case for new releases in the 2.x range. The most drastic improvement is the better Unicode support (with all text strings being Unicode by default) as well as saner bytes/Unicode separation.\n",
    "\n",
    "\n",
    "Besides, several aspects of the core language (such as print and exec being statements, integers using floor division) have been adjusted to be easier for newcomers to learn and to be more consistent with the rest of the language, and old cruft has been removed (for example, all classes are now new-style, \"range()\" returns a memory efficient iterable, not a list as in 2.x). \n",
    "\n",
    "### 2. Python2 与 Python3的详细区别\n",
    "\n",
    "- **PRINT** is a function\n",
    "\n",
    "\n",
    "- All is **UNICODE** now\n",
    "\n",
    "\n",
    "- 某些库改名了\n",
    "\n",
    "\n",
    "- **(A,`*`REST,B)=RANGE(5)**\n"
   ]
  },
  {
   "cell_type": "code",
   "execution_count": 2,
   "metadata": {},
   "outputs": [
    {
     "data": {
      "text/plain": [
       "(0, [1, 2, 3], 4)"
      ]
     },
     "execution_count": 2,
     "metadata": {},
     "output_type": "execute_result"
    }
   ],
   "source": [
    "a,*rest,b = range(5)\n",
    "a,rest,b"
   ]
  },
  {
   "cell_type": "markdown",
   "metadata": {},
   "source": [
    "### 3. 还有谁不支持Python3?\n",
    "\n",
    "One popular module that don't yet support Python 3 is Twisted (for networking and other applications). Most actively maintained libraries have people working on 3.x support. For some libraries, it's more of a priority than others: Twisted, for example, is mostly focused on production servers, where supporting older versions of Python is important, let alone supporting a new version that includes major changes to the language. (Twisted is a prime example of a major package where porting to 3.x is far from trivial. "
   ]
  },
  {
   "cell_type": "markdown",
   "metadata": {},
   "source": [
    "## 1. 数据类型"
   ]
  },
  {
   "attachments": {},
   "cell_type": "markdown",
   "metadata": {},
   "source": [
    "## 1. 数据运算\n",
    "- 算术运算\n",
    "![1-1.png](Img/1-1.png)\n",
    "\n",
    "\n",
    "- 比较运算\n",
    "![1-2.png](Img/1-2.png)\n",
    "\n",
    "\n",
    "- 赋值运算\n",
    "![1-3.png](Img/1-3.png)\n",
    "\n",
    "\n",
    "- 逻辑运算\n",
    "![1-4.png](Img/1-4.png)\n",
    "\n",
    "\n",
    "- 成员运算\n",
    "![1-5.png](Img/1-5.png)\n",
    "\n",
    "\n",
    "- 身份运算\n",
    "![1-6.png](Img/1-6.png)\n",
    "\n",
    "\n",
    "- 位运算\n",
    "![1-7.png](Img/1-7.png)\n",
    "\n",
    "\n",
    "- 运算优先级：以下表格列出了从最高到最低优先级的所有运算符\n",
    "![1-8.png](Img/1-8.png)"
   ]
  },
  {
   "cell_type": "markdown",
   "metadata": {},
   "source": [
    "更多关于Python数据运算： http://www.runoob.com/python/python-operators.html"
   ]
  },
  {
   "cell_type": "markdown",
   "metadata": {},
   "source": [
    "## 1. 条件与循环\n",
    "### 1. if 条件判断\n",
    "在程序里设定一个预先指定的数字，然后启动程序让用户猜测，用户输入后，根据他的输入提示用户输入的是否正确，如果错误，提示是猜大了还是小了"
   ]
  },
  {
   "cell_type": "code",
   "execution_count": 1,
   "metadata": {},
   "outputs": [
    {
     "name": "stdout",
     "output_type": "stream",
     "text": [
      "Please input a number between 0 and 100\n",
      "10\n",
      "Oops,think bigger!\n"
     ]
    }
   ],
   "source": [
    "#!/usr/bin/env python\n",
    "# -*- coding: utf-8 -*-\n",
    "\n",
    "default_num = 56\n",
    "user_input = int(input('Please input a number between 0 and 100\\n'))\n",
    "\n",
    "if user_input < default_num:\n",
    "    print('Oops,think bigger!')\n",
    "elif user_input > default_num:\n",
    "    print('Think smaller!')\n",
    "else:\n",
    "    print('Congratulations, you got it!')"
   ]
  },
  {
   "cell_type": "markdown",
   "metadata": {},
   "source": [
    "**注：外层变量，可以被内层代码使用；内层变量，不应被外层代码使用.**"
   ]
  },
  {
   "cell_type": "markdown",
   "metadata": {},
   "source": [
    "### 2. for 循环\n",
    "最简单的循环10次"
   ]
  },
  {
   "cell_type": "code",
   "execution_count": 2,
   "metadata": {},
   "outputs": [
    {
     "name": "stdout",
     "output_type": "stream",
     "text": [
      "loop: 0\n",
      "loop: 1\n",
      "loop: 2\n",
      "loop: 3\n",
      "loop: 4\n",
      "loop: 5\n",
      "loop: 6\n",
      "loop: 7\n",
      "loop: 8\n",
      "loop: 9\n"
     ]
    }
   ],
   "source": [
    "for i in range(10):\n",
    "    print(\"loop:\", i)"
   ]
  },
  {
   "cell_type": "markdown",
   "metadata": {
    "collapsed": true
   },
   "source": [
    "### 3. Continue and Break\n",
    "遇到小于5的循环次数就不走了，直接跳入下一次循环"
   ]
  },
  {
   "cell_type": "code",
   "execution_count": 3,
   "metadata": {},
   "outputs": [
    {
     "name": "stdout",
     "output_type": "stream",
     "text": [
      "loop: 5\n",
      "loop: 6\n",
      "loop: 7\n",
      "loop: 8\n",
      "loop: 9\n"
     ]
    }
   ],
   "source": [
    "for i in range(10):\n",
    "    if i < 5:\n",
    "        continue       # 直接进入下一次loop\n",
    "    print(\"loop:\", i)"
   ]
  },
  {
   "cell_type": "markdown",
   "metadata": {},
   "source": [
    "遇到大于5的循环次数就不走了，直接退出"
   ]
  },
  {
   "cell_type": "code",
   "execution_count": 7,
   "metadata": {},
   "outputs": [
    {
     "name": "stdout",
     "output_type": "stream",
     "text": [
      "loop: 0\n",
      "loop: 1\n",
      "loop: 2\n",
      "loop: 3\n",
      "loop: 4\n",
      "loop: 5\n"
     ]
    }
   ],
   "source": [
    "for i in range(10):\n",
    "    if i > 5:\n",
    "        break         # 直接跳出整个loop\n",
    "    print(\"loop:\", i)"
   ]
  },
  {
   "cell_type": "markdown",
   "metadata": {},
   "source": [
    "### 4. While 循环\n",
    "修改猜数字的程序，允许用户猜至多3次，猜中停止循环"
   ]
  },
  {
   "cell_type": "code",
   "execution_count": 5,
   "metadata": {},
   "outputs": [
    {
     "name": "stdout",
     "output_type": "stream",
     "text": [
      "Please input a number between 0 and 100\n",
      "4\n",
      "Oops,think bigger!\n",
      "Please input a number between 0 and 100\n",
      "56\n",
      "Congratulations, you got it!\n"
     ]
    }
   ],
   "source": [
    "default_num = 56\n",
    "\n",
    "count = 0\n",
    "while count < 3:\n",
    "    user_input = int(input('Please input a number between 0 and 100\\n'))\n",
    "\n",
    "    if user_input < default_num:\n",
    "        print('Oops,think bigger!')\n",
    "    elif user_input > default_num:\n",
    "        print('Think smaller!')\n",
    "    else:\n",
    "        print('Congratulations, you got it!')\n",
    "        break\n",
    "    count += 1"
   ]
  },
  {
   "cell_type": "markdown",
   "metadata": {},
   "source": [
    "## 1. Projects\n",
    "\n",
    "**编写登陆接口**\n",
    "\n",
    "- 输入用户名密码\n",
    "- 认证成功后显示欢迎信息\n",
    "- 输错三次后锁定\n",
    " \n",
    "\n",
    "**多级菜单**\n",
    "- 三级菜单\n",
    "- 可依次选择进入各子菜单\n",
    "- 所需新知识点：列表、字典"
   ]
  }
 ],
 "metadata": {
  "kernelspec": {
   "display_name": "Python 3",
   "language": "python",
   "name": "python3"
  },
  "language_info": {
   "codemirror_mode": {
    "name": "ipython",
    "version": 3
   },
   "file_extension": ".py",
   "mimetype": "text/x-python",
   "name": "python",
   "nbconvert_exporter": "python",
   "pygments_lexer": "ipython3",
   "version": "3.6.1"
  }
 },
 "nbformat": 4,
 "nbformat_minor": 2
}
