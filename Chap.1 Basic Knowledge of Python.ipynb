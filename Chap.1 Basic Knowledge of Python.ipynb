{
 "cells": [
  {
   "cell_type": "markdown",
   "metadata": {},
   "source": [
    "# Chap.1 Basic Knowledge of Python"
   ]
  },
  {
   "cell_type": "markdown",
   "metadata": {},
   "source": [
    "## 1.1 Python 介绍"
   ]
  },
  {
   "cell_type": "markdown",
   "metadata": {},
   "source": [
    "Python崇尚优美、清晰、简单，是一个优秀并广泛使用的语言。\n",
    "\n",
    "\n",
    "**目前Python主要应用领域：** \n",
    "<u>Python可以应用于众多领域，如：数据分析、组件集成、网络服务、图像处理、数值计算和科学计算等众多领域。</u>\n",
    "\n",
    "- 云计算: 云计算最火的语言， 典型应用OpenStack\n",
    "\n",
    "\n",
    "- WEB开发: 众多优秀的WEB框架，众多大型网站均为Python开发，Youtube, Dropbox, 豆瓣。。。， 典型WEB框架有Django\n",
    "\n",
    "\n",
    "- 科学运算、人工智能: 典型库NumPy, SciPy, Matplotlib, Enthought librarys,pandas\n",
    "\n",
    "\n",
    "- 系统运维: 运维人员必备语言\n",
    "\n",
    "\n",
    "- 金融：量化交易，金融分析，在金融工程领域，Python不但在用，且用的最多，而且重要性逐年提高。原因：作为动态语言的Python，语言结构清晰简单，库丰富，成熟稳定，科学计算和统计分析都很牛逼，生产效率远远高于c,c++,java,尤其擅长策略回测\n",
    "\n",
    "\n",
    "- 图形GUI: PyQT, WxPython,TkInter\n",
    "\n",
    "\n",
    "**Python在一些公司的应用： ** <u>目前业内几乎所有大中型互联网企业都在使用Python，如：Youtube、Dropbox、BT、Quora、豆瓣、知乎、Google、Yahoo!、Facebook、NASA、百度、腾讯、汽车之家、美团等。</u>\n",
    "\n",
    "- 谷歌：Google App Engine 、code.google.com 、Google earth 、谷歌爬虫、Google广告等项目都在大量使用Python开发\n",
    "\n",
    "\n",
    "- CIA: 美国中情局网站就是用Python开发的\n",
    "\n",
    "\n",
    "- NASA: 美国航天局(NASA)大量使用Python进行数据分析和运算\n",
    "\n",
    "\n",
    "- YouTube:世界上最大的视频网站YouTube就是用Python开发的\n",
    "\n",
    "\n",
    "- Dropbox:美国最大的在线云存储网站，全部用Python实现，每天网站处理10亿个文件的上传和下载\n",
    "\n",
    "\n",
    "- Instagram:美国最大的图片分享社交网站，每天超过3千万张照片被分享，全部用python开发\n",
    "\n",
    "\n",
    "- Facebook:大量的基础库均通过Python实现的\n",
    "\n",
    "\n",
    "- Redhat: 世界上最流行的Linux发行版本中的yum包管理工具就是用python开发的\n",
    "\n",
    "\n",
    "- 豆瓣: 公司几乎所有的业务均是通过Python开发的\n",
    "\n",
    "\n",
    "- 知乎: 国内最大的问答社区，通过Python开发\n",
    "\n",
    "\n",
    "- 春雨医生：国内知名的在线医疗网站是用Python开发的\n",
    "\n",
    "\n",
    "- 除上面之外，还有搜狐、金山、腾讯、盛大、网易、百度、阿里、淘宝 、土豆、新浪、果壳等公司都在使用Python完成各种各样的任务。 \n",
    "\n",
    "\n"
   ]
  },
  {
   "attachments": {},
   "cell_type": "markdown",
   "metadata": {},
   "source": [
    "**编程语言主要从以下几个角度为进行分类，编译型和解释型、静态语言和动态语言、强类型定义语言和弱类型定义语言。**\n",
    "\n",
    "### 1. 编译型语言和解释型语言\n",
    "\n",
    "\n",
    "- **编译型语言**：编译器把源程序的每一条语句都编译成机器语言,并保存成二进制文件,这样运行时计算机可以直接以机器语言来运行此程序,速度很快;\n",
    "\n",
    "    - 优点：编译器一般会有预编译的过程对代码进行优化。因为编译只做一次，运行时不需要编译，所以编译型语言的程序执行效率高。可以脱离语言环境独立运行。\n",
    "    \n",
    "    - 缺点：编译之后如果需要修改就需要整个模块重新编译。编译的时候根据对应的运行环境生成机器码，不同的操作系统之间移植就会有问题，需要根据运行的操作系统环境编译不同的可执行文件。\n",
    "\n",
    "\n",
    "- **解释型语言**：解释器则是只在执行程序时,才一条一条的解释成机器语言给计算机来执行,所以运行速度是不如编译后的程序运行的快。\n",
    "\n",
    "    - 优点：有良好的平台兼容性，在任何环境中都可以运行，前提是安装了解释器（虚拟机）。灵活，修改代码的时候直接修改就可以，可以快速部署，不用停机维护。\n",
    "\n",
    "    - 缺点：每次运行的时候都要解释一遍，性能上不如编译型语言。\n",
    "\n",
    "\n",
    "<img src=\"Img/0-1.png\" width = \"400\" height = \"200\" alt=\"图片名称\" align=left />\n",
    "\n",
    "<img src=\"Img/0-2.png\" width = \"400\" height = \"200\" alt=\"图片名称\" align=center/>\n",
    "\n"
   ]
  },
  {
   "cell_type": "markdown",
   "metadata": {},
   "source": [
    "### 三点补充说明\n",
    "\n",
    "**一、低级语言与高级语言**\n",
    "\n",
    "最初的计算机程序都是用0和1的序列表示的，程序员直接使用的是机器指令，无需翻译，从纸带打孔输入即可执行得到结果。后来为了方便记忆，就将用0、1序列表示的机器指令都用符号助记，这些与机器指令一一对应的助记符就成了汇编指令，从而诞生了汇编语言。无论是机器指令还是汇编指令都是面向机器的，统称为低级语言。因为是针对特定机器的机器指令的助记符，所以**汇编语言是无法独立于机器(特定的CPU体系结构)的**。但汇编语言也是要经过翻译成机器指令才能执行的，所以也有将运行在一种机器上的汇编语言翻译成运行在另一种机器上的机器指令的方法，那就是交叉汇编技术。\n",
    "\n",
    "\n",
    "高级语言是从人类的逻辑思维角度出发的计算机语言，抽象程度大大提高，需要经过编译成特定机器上的目标代码才能执行，一条高级语言的语句往往需要若干条机器指令来完成。高级语言独立于机器的特性是靠编译器为不同机器生成不同的目标代码(或机器指令)来实现的。那具体的说，要将高级语言编译到什么程度呢，这又跟编译的技术有关了，既可以编译成直接可执行的目标代码，也可以编译成一种中间表示，然后拿到不同的机器和系统上去执行，这种情况通常又需要支撑环境，比如解释器或虚拟机的支持，Java程序编译成bytecode，再由不同平台上的虚拟机执行就是很好的例子。所以，说**高级语言不依赖于机器，是指在不同的机器或平台上高级语言的程序本身不变，而通过编译器编译得到的目标代码去适应不同的机器**。从这个意义上来说，通过交叉汇编，一些汇编程序也可以获得不同机器之间的可移植性，但这种途径获得的移植性远远不如高级语言来的方便和实用性大。\n",
    "\n",
    "\n",
    "**二、编译与解释**\n",
    "\n",
    "\n",
    "**编译是将源程序翻译成可执行的目标代码，翻译与执行是分开的；而解释是对源程序的翻译与执行一次性完成，不生成可存储的目标代码。**这只是表象，二者背后的最大区别是：**对解释执行而言，程序运行时的控制权在解释器而不在用户程序；对编译执行而言，运行时的控制权在用户程序。**\n",
    "\n",
    "\n",
    "解释具有良好的动态特性和可移植性，比如在解释执行时可以动态改变变量的类型、对程序进行修改以及在程序中插入良好的调试诊断信息等，而将解释器移植到不同的系统上，则程序不用改动就可以在移植了解释器的系统上运行。同时解释器也有很大的缺点，比如执行效率低，占用空间大，因为不仅要给用户程序分配空间，解释器本身也占用了宝贵的系统资源。\n",
    "\n",
    "\n",
    "编译器是把源程序的每一条语句都编译成机器语言,并保存成二进制文件,这样运行时计算机可以直接以机器语言来运行此程序,速度很快; 而解释器则是只在执行程序时,才一条一条的解释成机器语言给计算机来执行,所以运行速度是不如编译后的程序运行的快的.\n",
    "\n",
    " \n",
    " \n",
    "\n",
    "**三、编译型和解释型**\n",
    "\n",
    "\n",
    "编译型和汇编语言是一样的：也是有一个负责翻译的程序来对我们的源代码进行转换，生成相对应的可执行代码。这个过程说得专业一点，就称为编译（Compile），而负责编译的程序自然就称为编译器（Compiler）。如果我们写的程序代码都包含在一个源文件中，那么通常编译之后就会直接生成一个可执行文件，我们就可以直接运行了。但对于一个比较复杂的项目，为了方便管理，我们通常把代码分散在各个源文件中，作为不同的模块来组织。这时编译各个文件时就会生成目标文件（Object  file）而不是前面说的可执行文件。一般一个源文件的编译都会对应一个目标文件。这些目标文件里的内容基本上已经是可执行代码了，但由于只是整个项目的一部分，所以我们还不能直接运行。待所有的源文件的编译都大功告成，我们就可以最后把这些半成品的目标文件“打包”成一个可执行文件了，这个工作由另一个程序负责完成，由于此过程好像是把包含可执行代码的目标文件连接装配起来，所以又称为链接（Link），而负责链接的程序就叫就叫链接程序（Linker）。链接程序除了链接目标文件外，可能还有各种资源，像图标文件、声音文件，还要负责去除目标文件之间的冗余重复代码，等等。链接完成之后，一般就可以得到我们想要的可执行文件了。 \n",
    "\n",
    "\n",
    "再看解释型。从字面上看，“编译”和“解释”的确都有“翻译”的意思，它们的区别则在于翻译的时机安排不大一样。**打个比方：假如你打算阅读一本外文书，而你不知道这门外语，那么你可以找一名翻译，给他足够的时间让他从头到尾把整本书翻译好，然后把书的母语版交给你阅读；或者，你也立刻让这名翻译辅助你阅读，让他一句一句给你翻译，如果你想往回看某个章节，他也得重新给你翻译。 **\n",
    "\n",
    "\n",
    "两种方式，前者就相当于我们刚才所说的编译型：一次把所有的代码转换成机器语言，然后写成可执行文件；而后者就相当于我们要说的解释型：在程序运行的前一刻，还只有源程序而没有可执行程序；而程序每执行到源程序的某一条指令，则会有一个称之为解释程序的外壳程序将源代码转换成二进制代码以供执行，总言之，就是不断地解释、执行、解释、执行……所以，解释型程序是离不开解释程序的。像早期的BASIC就是一门经典的解释型语言，要执行BASIC程序，就得进入BASIC环境，然后才能加载程序源文件、运行。解释型程序中，由于程序总是以源代码的形式出现，因此只要有相应的解释器，移植几乎不成问题。编译型程序虽然源代码也可以移植，但前提是必须针对不同的系统分别进行编译，对于复杂的工程来说，的确是一件不小的时间消耗，况且很可能一些细节的地方还是要修改源代码。而且，解释型程序省却了编译的步骤，修改调试也非常方便，编辑完毕之后即可立即运行，不必像编译型程序一样每次进行小小改动都要耐心等待漫长的Compiling…Linking…这样的编译链接过程。不过凡事有利有弊，由于解释型程序是将编译的过程放到执行过程中，这就决定了解释型程序注定要比编译型慢上一大截，像几百倍的速度差距也是不足为奇的。 \n",
    "\n",
    "\n",
    "编译型与解释型，两者各有利弊。前者由于程序执行速度快，同等条件下对系统要求较低，因此像开发操作系统、大型应用程序、数据库系统等时都采用它，像C/C++、Pascal/Object   Pascal（Delphi）、VB等基本都可视为编译语言，而一些网页脚本、服务器脚本及辅助开发接口这样的对速度要求不高、对不同系统平台间的兼容性有一定要求的程序则通常使用解释性语言，如Java、JavaScript、VBScript、Perl、Python等等。 \n",
    "\n",
    "\n",
    "但既然编译型与解释型各有优缺点又相互对立，所以一批新兴的语言都有把两者折衷起来的趋势，例如Java语言虽然比较接近解释型语言的特征，但在执行之前已经预先进行一次预编译，生成的代码是介于机器码和Java源代码之间的中介代码，运行的时候则由JVM（Java的虚拟机平台，可视为解释器）解释执行。它既保留了源代码的高抽象、可移植的特点，又已经完成了对源代码的大部分预编译工作，所以执行起来比“纯解释型”程序要快许多。而像VB6（或者以前版本）、C#这样的语言，虽然表面上看生成的是.exe可执行程序文件，但VB6编译之后实际生成的也是一种中介码，只不过编译器在前面安插了一段自动调用某个外部解释器的代码（该解释程序独立于用户编写的程序，存放于系统的某个DLL文件中，所有以VB6编译生成的可执行程序都要用到它），以解释执行实际的程序体。C#（以及其它.net的语言编译器）则是生成.net目标代码，实际执行时则由.net解释系统（就像JVM一样，也是一个虚拟机平台）进行执行。当然.net目标代码已经相当“低级”，比较接近机器语言了，所以仍将其视为编译语言，而且其可移植程度也没有Java号称的这么强大，Java号称是“一次编译，到处执行”，而.net则是“一次编码，到处编译”。总之，随着设计技术与硬件的不断发展，编译型与解释型两种方式的界限正在不断变得模糊。"
   ]
  },
  {
   "cell_type": "markdown",
   "metadata": {},
   "source": [
    "\n",
    "### 2. 静态语言和动态语言\n",
    "- **动态类型语言**：动态类型语言是指在运行期间才去做数据类型检查的语言，也就是说，在用动态类型的语言编程时，永远也不用给任何变量指定数据类型，该语言会在你第一次赋值给变量时，在内部将数据类型记录下来。Python和Ruby就是一种典型的动态类型语言，其他的各种脚本语言如VBScript也多少属于动态类型语言。\n",
    "\n",
    "\n",
    "- **静态类型语言**：静态类型语言与动态类型语言刚好相反，它的数据类型是在编译其间检查的，也就是说在写程序时要声明所有变量的数据类型，C/C++是静态类型语言的典型代表，其他的静态类型语言还有C#、JAVA等。\n",
    "\n",
    "\n",
    "### 3. 强类型定义语言和弱类型定义语言\n",
    "- **强类型定义语言**：强制数据类型定义的语言。也就是说，一旦一个变量被指定了某个数据类型，如果不经过强制转换，那么它就永远是这个数据类型了。举个例子：如果你定义了一个整型变量a,那么程序根本不可能将a当作字符串类型处理。强类型定义语言是类型安全的语言。\n",
    "\n",
    "\n",
    "- **弱类型定义语言**：数据类型可以被忽略的语言。它与强类型定义语言相反, 一个变量可以赋不同数据类型的值。\n",
    "\n",
    "\n",
    "**强类型定义语言在速度上可能略逊色于弱类型定义语言，但是强类型定义语言带来的严谨性能够有效的避免许多错误。另外，“这门语言是不是动态语言”与“这门语言是否类型安全”之间是完全没有联系的！**\n",
    "\n",
    "\n",
    "**例如：Python是动态语言，是强类型定义语言（类型安全的语言）; VBScript是动态语言，是弱类型定义语言（类型不安全的语言）; JAVA是静态语言，是强类型定义语言（类型安全的语言）。**\n",
    "\n",
    "### 4. Python的优缺点\n",
    "**优点**\n",
    "\n",
    "- Python的定位是“优雅”、“明确”、“简单”，所以Python程序看上去总是简单易懂，初学者学Python，不但入门容易，而且将来深入下去，可以编写那些非常非常复杂的程序。\n",
    "\n",
    "\n",
    "- 开发效率非常高，Python有非常强大的第三方库，基本上你想通过计算机实现任何功能，Python官方库里都有相应的模块进行支持，直接下载调用后，在基础库的基础上再进行开发，大大降低开发周期，避免重复造轮子。\n",
    "\n",
    "\n",
    "- 高级语言————当你用Python语言编写程序的时候，你无需考虑诸如如何管理你的程序使用的内存一类的底层细节。\n",
    "\n",
    "\n",
    "- 可移植性————由于它的开源本质，Python已经被移植在许多平台上（经过改动使它能够工 作在不同平台上）。如果你小心地避免使用依赖于系统的特性，那么你的所有Python程序无需修改就几乎可以在市场上所有的系统平台上运行。\n",
    "\n",
    "- 可扩展性————如果你需要你的一段关键代码运行得更快或者希望某些算法不公开，你可以把你的部分程序用C或C++编写，然后在你的Python程序中使用它们。\n",
    "\n",
    "- 可嵌入性————你可以把Python嵌入你的C/C++程序，从而向你的程序用户提供脚本功能。\n",
    "\n",
    "\n",
    "\n",
    "**缺点：**\n",
    "\n",
    "\n",
    "- 速度慢，Python 的运行速度相比C语言确实慢很多，跟JAVA相比也要慢一些，因此这也是很多所谓的大牛不屑于使用Python的主要原因，但其实这里所指的运行速度慢在大多数情况下用户是无法直接感知到的，必须借助测试工具才能体现出来，比如你用C运一个程序花了0.01s,用Python是0.1s,这样C语言直接比Python快了10倍,算是非常夸张了，但是你是无法直接通过肉眼感知的，因为一个正常人所能感知的时间最小单位是0.15-0.4s左右，哈哈。其实在大多数情况下Python已经完全可以满足你对程序速度的要求，除非你要写对速度要求极高的搜索引擎等，这种情况下，当然还是建议你用C去实现的。\n",
    "\n",
    "\n",
    "- 代码不能加密，因为PYTHON是解释性语言，它的源码都是以名文形式存放的，不过我不认为这算是一个缺点，如果你的项目要求源代码必须是加密的，那你一开始就不应该用Python来去实现。\n",
    "\n",
    "\n",
    "- 线程不能利用多CPU问题，这是Python被人诟病最多的一个缺点，GIL即全局解释器锁（Global Interpreter Lock），是计算机程序设计语言解释器用于同步线程的工具，使得任何时刻仅有一个线程在执行，Python的线程是操作系统的原生线程。在Linux上为pthread，在Windows上为Win thread，完全由操作系统调度线程的执行。一个python解释器进程内有一条主线程，以及多条用户程序的执行线程。即使在多核CPU平台上，由于GIL的存在，所以禁止多线程的并行执行。关于这个问题的折衷解决方法，我们在以后线程和进程章节里再进行详细探讨。\n",
    " \n",
    "\n",
    "**任何一门语言都不是完美的，都有擅长和不擅长做的事情，不要拿一个语言的劣势去跟另一个语言的优势来去比较，语言只是一个工具，是实现程序设计师思想的工具，拿相应的工具去做它最擅长的事才是正确的选择。Python不只是个脚本语言，能做的事情更多。**\n",
    "\n",
    "### 5. Python 解释器\n",
    "当我们编写Python代码时，我们得到的是一个包含Python代码的以.py为扩展名的文本文件。要运行代码，就需要Python解释器去执行.py文件。\n",
    "\n",
    "\n",
    "- **CPython**: 当我们从Python官方网站下载并安装好Python 2.7后，我们就直接获得了一个官方版本的解释器：CPython。这个解释器是用C语言开发的，所以叫CPython。在命令行下运行python就是启动CPython解释器。CPython是使用最广的Python解释器。教程的所有代码也都在CPython下执行。\n",
    "\n",
    "\n",
    "- **IPython**是基于CPython之上的一个交互式解释器，也就是说，IPython只是在交互方式上有所增强，但是执行Python代码的功能和CPython是完全一样的。好比很多国产浏览器虽然外观不同，但内核其实都是调用了IE。CPython用>>>作为提示符，而IPython用In [序号]:作为提示符。\n",
    "\n",
    "\n",
    "- **PyPy**是另一个Python解释器，它的目标是执行速度。PyPy采用JIT技术，对Python代码进行动态编译（注意不是解释），所以可以显著提高Python代码的执行速度。绝大部分Python代码都可以在PyPy下运行，但是PyPy和CPython有一些是不同的，这就导致相同的Python代码在两种解释器下执行可能会有不同的结果。如果你的代码要放到PyPy下执行，就需要了解PyPy和CPython的不同点。\n",
    "\n",
    "\n",
    "- **Jython**是运行在Java平台上的Python解释器，可以直接把Python代码编译成Java字节码执行。\n",
    "\n",
    "\n",
    "- **IronPython**和Jython类似，只不过IronPython是运行在微软.Net平台上的Python解释器，可以直接把Python代码编译成.Net的字节码。\n",
    "\n",
    "\n",
    "**Python的解释器很多，但使用最广泛的还是CPython。如果要和Java或.Net平台交互，最好的办法不是用Jython或IronPython，而是通过网络调用来交互，确保各程序之间的独立性。**"
   ]
  },
  {
   "cell_type": "markdown",
   "metadata": {
    "collapsed": true
   },
   "source": [
    "## 1.2 Python 发展历史与版本\n",
    "### 1. Python 发展历史\n",
    "\n",
    "- 1989年，为了打发圣诞节假期，Guido开始写Python语言的编译器。Python这个名字，来自Guido所挚爱的电视剧Monty Python’s Flying Circus。他希望这个新的叫做Python的语言，能符合他的理想：创造一种C和shell之间，功能全面，易学易用，可拓展的语言。\n",
    "\n",
    "\n",
    "- 1991年，第一个Python编译器诞生。它是用C语言实现的，并能够调用C语言的库文件。从一出生，Python已经具有了：类，函数，异常处理，包含表和词典在内的核心数据类型，以及模块为基础的拓展系统。\n",
    "\n",
    "\n",
    "- Granddaddy of Python web frameworks, Zope 1 was released in 1999\n",
    "\n",
    "\n",
    "- Python 1.0 - January 1994 增加了 lambda, map, filter and reduce.\n",
    "\n",
    "\n",
    "- Python 2.0 - October 16, 2000，加入了内存回收机制，构成了现在Python语言框架的基础\n",
    "\n",
    "\n",
    "- Python 2.4 - November 30, 2004, 同年目前最流行的WEB框架Django 诞生\n",
    "\n",
    "\n",
    "- Python 2.5 - September 19, 2006\n",
    "\n",
    "\n",
    "- Python 2.6 - October 1, 2008\n",
    "\n",
    "\n",
    "- Python 2.7 - July 3, 2010\n",
    "\n",
    "\n",
    "- In November 2014, it was announced that Python 2.7 would be supported until 2020, and reaffirmed that there would be no 2.8 release as users were expected to move to Python 3.4+ as soon as possible\n",
    "\n",
    "\n",
    "- **Python 3.0 - December 3, 2008**\n",
    "\n",
    "\n",
    "- Python 3.1 - June 27, 2009\n",
    "\n",
    "\n",
    "- Python 3.2 - February 20, 2011\n",
    "\n",
    "\n",
    "- Python 3.3 - September 29, 2012\n",
    "\n",
    "\n",
    "- Python 3.4 - March 16, 2014\n",
    "\n",
    "\n",
    "- Python 3.5 - September 13, 2015\n",
    "\n",
    "### 2. Python2 or Python3?\n",
    "\n",
    "\n",
    "**In summary : Python 2.x is legacy, Python 3.x is the present and future of the language**\n",
    "\n",
    "Python 3.0 was released in 2008. The final 2.x version 2.7 release came out in mid-2010, with a statement of extended support for this end-of-life release. The 2.x branch will see no new major releases after that. 3.x is under active development and has already seen over five years of stable releases, including version 3.3 in 2012, 3.4 in 2014, and 3.5 in 2015. This means that all recent standard library improvements, for example, are only available by default in Python 3.x.\n",
    "\n",
    "\n",
    "Guido van Rossum (the original creator of the Python language) decided to clean up Python 2.x properly, with less regard for backwards compatibility than is the case for new releases in the 2.x range. The most drastic improvement is the better Unicode support (with all text strings being Unicode by default) as well as saner bytes/Unicode separation.\n",
    "\n",
    "\n",
    "Besides, several aspects of the core language (such as print and exec being statements, integers using floor division) have been adjusted to be easier for newcomers to learn and to be more consistent with the rest of the language, and old cruft has been removed (for example, all classes are now new-style, \"range()\" returns a memory efficient iterable, not a list as in 2.x). \n",
    "\n",
    "### 3. Python2 与 Python3的详细区别\n",
    "\n",
    "- **PRINT** is a function\n",
    "\n",
    "\n",
    "- All is **UNICODE** now\n",
    "\n",
    "\n",
    "- 某些库改名了\n",
    "\n",
    "\n",
    "- **(A,`*`REST,B)=RANGE(5)**\n"
   ]
  },
  {
   "cell_type": "code",
   "execution_count": 2,
   "metadata": {},
   "outputs": [
    {
     "data": {
      "text/plain": [
       "(0, [1, 2, 3], 4)"
      ]
     },
     "execution_count": 2,
     "metadata": {},
     "output_type": "execute_result"
    }
   ],
   "source": [
    "a,*rest,b = range(5)\n",
    "a,rest,b"
   ]
  },
  {
   "cell_type": "markdown",
   "metadata": {},
   "source": [
    "### 4. 还有谁不支持Python3?\n",
    "\n",
    "One popular module that don't yet support Python 3 is Twisted (for networking and other applications). Most actively maintained libraries have people working on 3.x support. For some libraries, it's more of a priority than others: Twisted, for example, is mostly focused on production servers, where supporting older versions of Python is important, let alone supporting a new version that includes major changes to the language. (Twisted is a prime example of a major package where porting to 3.x is far from trivial. \n",
    "\n",
    "\n",
    "### 5. Python安装\n",
    "- Linux、Mac无需安装，原装Python环境\n",
    "\n",
    "- Windows下安装如下：\n",
    "\n",
    "\n",
    "1. 下载安装包 https://www.python.org/downloads/\n",
    "2. 安装：默认安装路径：C:\\python27\n",
    "3. 配置环境变量\n",
    "    【计算机右键】-->【属性】-->【高级系统设置】-->【高级】-->【环境变量】-->【在第二个内容框中找到变量名为Path的一行，双击】 --> 【追加Python安装目录到变值值中，用';'分割】\n"
   ]
  },
  {
   "cell_type": "markdown",
   "metadata": {},
   "source": [
    "## 1.3 Hello World\n",
    "\n"
   ]
  },
  {
   "cell_type": "markdown",
   "metadata": {},
   "source": [
    "## 1. 数据类型"
   ]
  },
  {
   "attachments": {},
   "cell_type": "markdown",
   "metadata": {},
   "source": [
    "## 1. 数据运算\n",
    "- 算术运算\n",
    "![1-1.png](Img/1-1.png)\n",
    "\n",
    "\n",
    "- 比较运算\n",
    "![1-2.png](Img/1-2.png)\n",
    "\n",
    "\n",
    "- 赋值运算\n",
    "![1-3.png](Img/1-3.png)\n",
    "\n",
    "\n",
    "- 逻辑运算\n",
    "![1-4.png](Img/1-4.png)\n",
    "\n",
    "\n",
    "- 成员运算\n",
    "![1-5.png](Img/1-5.png)\n",
    "\n",
    "\n",
    "- 身份运算\n",
    "![1-6.png](Img/1-6.png)\n",
    "\n",
    "\n",
    "- 位运算\n",
    "![1-7.png](Img/1-7.png)\n",
    "\n",
    "\n",
    "- 运算优先级：以下表格列出了从最高到最低优先级的所有运算符\n",
    "![1-8.png](Img/1-8.png)"
   ]
  },
  {
   "cell_type": "markdown",
   "metadata": {},
   "source": [
    "更多关于Python数据运算： http://www.runoob.com/python/python-operators.html"
   ]
  },
  {
   "cell_type": "markdown",
   "metadata": {},
   "source": [
    "## 1. 条件与循环\n",
    "### 1. if 条件判断\n",
    "在程序里设定一个预先指定的数字，然后启动程序让用户猜测，用户输入后，根据他的输入提示用户输入的是否正确，如果错误，提示是猜大了还是小了"
   ]
  },
  {
   "cell_type": "code",
   "execution_count": 1,
   "metadata": {},
   "outputs": [
    {
     "name": "stdout",
     "output_type": "stream",
     "text": [
      "Please input a number between 0 and 100\n",
      "10\n",
      "Oops,think bigger!\n"
     ]
    }
   ],
   "source": [
    "#!/usr/bin/env python\n",
    "# -*- coding: utf-8 -*-\n",
    "\n",
    "default_num = 56\n",
    "user_input = int(input('Please input a number between 0 and 100\\n'))\n",
    "\n",
    "if user_input < default_num:\n",
    "    print('Oops,think bigger!')\n",
    "elif user_input > default_num:\n",
    "    print('Think smaller!')\n",
    "else:\n",
    "    print('Congratulations, you got it!')"
   ]
  },
  {
   "cell_type": "markdown",
   "metadata": {},
   "source": [
    "**注：外层变量，可以被内层代码使用；内层变量，不应被外层代码使用.**"
   ]
  },
  {
   "cell_type": "markdown",
   "metadata": {},
   "source": [
    "### 2. for 循环\n",
    "最简单的循环10次"
   ]
  },
  {
   "cell_type": "code",
   "execution_count": 2,
   "metadata": {},
   "outputs": [
    {
     "name": "stdout",
     "output_type": "stream",
     "text": [
      "loop: 0\n",
      "loop: 1\n",
      "loop: 2\n",
      "loop: 3\n",
      "loop: 4\n",
      "loop: 5\n",
      "loop: 6\n",
      "loop: 7\n",
      "loop: 8\n",
      "loop: 9\n"
     ]
    }
   ],
   "source": [
    "for i in range(10):\n",
    "    print(\"loop:\", i)"
   ]
  },
  {
   "cell_type": "markdown",
   "metadata": {
    "collapsed": true
   },
   "source": [
    "### 3. Continue and Break\n",
    "遇到小于5的循环次数就不走了，直接跳入下一次循环"
   ]
  },
  {
   "cell_type": "code",
   "execution_count": 3,
   "metadata": {},
   "outputs": [
    {
     "name": "stdout",
     "output_type": "stream",
     "text": [
      "loop: 5\n",
      "loop: 6\n",
      "loop: 7\n",
      "loop: 8\n",
      "loop: 9\n"
     ]
    }
   ],
   "source": [
    "for i in range(10):\n",
    "    if i < 5:\n",
    "        continue       # 直接进入下一次loop\n",
    "    print(\"loop:\", i)"
   ]
  },
  {
   "cell_type": "markdown",
   "metadata": {},
   "source": [
    "遇到大于5的循环次数就不走了，直接退出"
   ]
  },
  {
   "cell_type": "code",
   "execution_count": 7,
   "metadata": {},
   "outputs": [
    {
     "name": "stdout",
     "output_type": "stream",
     "text": [
      "loop: 0\n",
      "loop: 1\n",
      "loop: 2\n",
      "loop: 3\n",
      "loop: 4\n",
      "loop: 5\n"
     ]
    }
   ],
   "source": [
    "for i in range(10):\n",
    "    if i > 5:\n",
    "        break         # 直接跳出整个loop\n",
    "    print(\"loop:\", i)"
   ]
  },
  {
   "cell_type": "markdown",
   "metadata": {},
   "source": [
    "### 4. While 循环\n",
    "修改猜数字的程序，允许用户猜至多3次，猜中停止循环"
   ]
  },
  {
   "cell_type": "code",
   "execution_count": 5,
   "metadata": {},
   "outputs": [
    {
     "name": "stdout",
     "output_type": "stream",
     "text": [
      "Please input a number between 0 and 100\n",
      "4\n",
      "Oops,think bigger!\n",
      "Please input a number between 0 and 100\n",
      "56\n",
      "Congratulations, you got it!\n"
     ]
    }
   ],
   "source": [
    "default_num = 56\n",
    "\n",
    "count = 0\n",
    "while count < 3:\n",
    "    user_input = int(input('Please input a number between 0 and 100\\n'))\n",
    "\n",
    "    if user_input < default_num:\n",
    "        print('Oops,think bigger!')\n",
    "    elif user_input > default_num:\n",
    "        print('Think smaller!')\n",
    "    else:\n",
    "        print('Congratulations, you got it!')\n",
    "        break\n",
    "    count += 1"
   ]
  },
  {
   "cell_type": "markdown",
   "metadata": {},
   "source": [
    "## 1. Projects\n",
    "\n",
    "**编写登陆接口**\n",
    "\n",
    "- 输入用户名密码\n",
    "- 认证成功后显示欢迎信息\n",
    "- 输错三次后锁定\n",
    " \n",
    "\n",
    "**多级菜单**\n",
    "- 三级菜单\n",
    "- 可依次选择进入各子菜单\n",
    "- 所需新知识点：列表、字典"
   ]
  }
 ],
 "metadata": {
  "kernelspec": {
   "display_name": "Python 3",
   "language": "python",
   "name": "python3"
  },
  "language_info": {
   "codemirror_mode": {
    "name": "ipython",
    "version": 3
   },
   "file_extension": ".py",
   "mimetype": "text/x-python",
   "name": "python",
   "nbconvert_exporter": "python",
   "pygments_lexer": "ipython3",
   "version": "3.6.1"
  }
 },
 "nbformat": 4,
 "nbformat_minor": 2
}
